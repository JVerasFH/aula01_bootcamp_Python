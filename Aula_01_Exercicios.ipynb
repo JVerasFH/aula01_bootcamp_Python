{
 "cells": [
  {
   "cell_type": "code",
   "execution_count": 1,
   "id": "8ab3d257",
   "metadata": {},
   "outputs": [
    {
     "name": "stdout",
     "output_type": "stream",
     "text": [
      "Hello World\n",
      "8\n",
      "Olá Turma\n"
     ]
    }
   ],
   "source": [
    "# Função Print\n",
    "\n",
    "print(\"Hello World\")\n",
    "print(3 + 5)\n",
    "print(\"Olá\" + \" \" + \"Turma\")"
   ]
  },
  {
   "cell_type": "code",
   "execution_count": 2,
   "id": "b8fb9dbc",
   "metadata": {},
   "outputs": [
    {
     "name": "stdout",
     "output_type": "stream",
     "text": [
      "Olá, Jorge!\n"
     ]
    }
   ],
   "source": [
    "#Função Input\n",
    "\n",
    "input(\"Digite seu nome: \")\n",
    "print(\"Olá, \" + input(\"Digite seu nome: \") + \"!\")"
   ]
  },
  {
   "cell_type": "code",
   "execution_count": 3,
   "id": "ebfc2630",
   "metadata": {},
   "outputs": [
    {
     "name": "stdout",
     "output_type": "stream",
     "text": [
      "5\n"
     ]
    }
   ],
   "source": [
    "#Exercício 01 - Crie programa que o usuário digita o seu nome e retorna o número de caracteres\n",
    "\n",
    "print(len(input(\"Digite seu nome: \")))"
   ]
  },
  {
   "cell_type": "code",
   "execution_count": 4,
   "id": "543f460f",
   "metadata": {},
   "outputs": [
    {
     "name": "stdout",
     "output_type": "stream",
     "text": [
      "5.0\n"
     ]
    }
   ],
   "source": [
    "#Exercício 02 - Criar um programa onde o usuário digite dois valores e apareça a soma\n",
    "\n",
    "print(float(input(\"Digite um valor: \")) + float(input(\"Digite o segundo valor: \")))"
   ]
  },
  {
   "cell_type": "code",
   "execution_count": null,
   "id": "40a3b27b",
   "metadata": {},
   "outputs": [],
   "source": [
    "# Declaração de Variáveis\n",
    "\n",
    "numero = 10\n",
    "mensagem = \"Olá, mundo!\"\n",
    "print(numero)\n",
    "print(mensagem)"
   ]
  },
  {
   "cell_type": "code",
   "execution_count": null,
   "id": "b1b3ee06",
   "metadata": {},
   "outputs": [],
   "source": [
    "# Exercício 03: Refatore o exercício 02 atribuindo variáveis\n",
    "# print(len(input(\"Digite o seu nome: \")))\n",
    "\n",
    "nome_usuario = input(\"Digite seu nome: \")\n",
    "caractere = len(nome_usuario)\n",
    "print(caractere)"
   ]
  }
 ],
 "metadata": {
  "kernelspec": {
   "display_name": "Python 3",
   "language": "python",
   "name": "python3"
  },
  "language_info": {
   "codemirror_mode": {
    "name": "ipython",
    "version": 3
   },
   "file_extension": ".py",
   "mimetype": "text/x-python",
   "name": "python",
   "nbconvert_exporter": "python",
   "pygments_lexer": "ipython3",
   "version": "3.13.6"
  }
 },
 "nbformat": 4,
 "nbformat_minor": 5
}
